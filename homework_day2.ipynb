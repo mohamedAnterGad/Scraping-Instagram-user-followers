{
 "cells": [
  {
   "cell_type": "code",
   "execution_count": 76,
   "id": "433a002d",
   "metadata": {},
   "outputs": [
    {
     "name": "stdout",
     "output_type": "stream",
     "text": [
      "Requirement already satisfied: selenium in c:\\users\\mohamed\\anaconda3\\lib\\site-packages (4.1.0)Note: you may need to restart the kernel to use updated packages.\n",
      "\n",
      "Requirement already satisfied: urllib3[secure]~=1.26 in c:\\users\\mohamed\\anaconda3\\lib\\site-packages (from selenium) (1.26.4)\n",
      "Requirement already satisfied: trio-websocket~=0.9 in c:\\users\\mohamed\\anaconda3\\lib\\site-packages (from selenium) (0.9.2)\n",
      "Requirement already satisfied: trio~=0.17 in c:\\users\\mohamed\\anaconda3\\lib\\site-packages (from selenium) (0.19.0)\n",
      "Requirement already satisfied: async-generator>=1.9 in c:\\users\\mohamed\\anaconda3\\lib\\site-packages (from trio~=0.17->selenium) (1.10)\n",
      "Requirement already satisfied: attrs>=19.2.0 in c:\\users\\mohamed\\anaconda3\\lib\\site-packages (from trio~=0.17->selenium) (20.3.0)\n",
      "Requirement already satisfied: idna in c:\\users\\mohamed\\anaconda3\\lib\\site-packages (from trio~=0.17->selenium) (2.10)\n",
      "Requirement already satisfied: cffi>=1.14 in c:\\users\\mohamed\\anaconda3\\lib\\site-packages (from trio~=0.17->selenium) (1.14.5)\n",
      "Requirement already satisfied: outcome in c:\\users\\mohamed\\anaconda3\\lib\\site-packages (from trio~=0.17->selenium) (1.1.0)\n",
      "Requirement already satisfied: sniffio in c:\\users\\mohamed\\anaconda3\\lib\\site-packages (from trio~=0.17->selenium) (1.2.0)\n",
      "Requirement already satisfied: sortedcontainers in c:\\users\\mohamed\\anaconda3\\lib\\site-packages (from trio~=0.17->selenium) (2.3.0)\n",
      "Requirement already satisfied: pycparser in c:\\users\\mohamed\\anaconda3\\lib\\site-packages (from cffi>=1.14->trio~=0.17->selenium) (2.20)\n",
      "Requirement already satisfied: wsproto>=0.14 in c:\\users\\mohamed\\anaconda3\\lib\\site-packages (from trio-websocket~=0.9->selenium) (1.0.0)\n",
      "Requirement already satisfied: pyOpenSSL>=0.14 in c:\\users\\mohamed\\anaconda3\\lib\\site-packages (from urllib3[secure]~=1.26->selenium) (20.0.1)\n",
      "Requirement already satisfied: cryptography>=1.3.4 in c:\\users\\mohamed\\anaconda3\\lib\\site-packages (from urllib3[secure]~=1.26->selenium) (3.4.7)\n",
      "Requirement already satisfied: certifi in c:\\users\\mohamed\\anaconda3\\lib\\site-packages (from urllib3[secure]~=1.26->selenium) (2020.12.5)\n",
      "Requirement already satisfied: six>=1.5.2 in c:\\users\\mohamed\\anaconda3\\lib\\site-packages (from pyOpenSSL>=0.14->urllib3[secure]~=1.26->selenium) (1.15.0)\n",
      "Requirement already satisfied: h11<1,>=0.9.0 in c:\\users\\mohamed\\anaconda3\\lib\\site-packages (from wsproto>=0.14->trio-websocket~=0.9->selenium) (0.12.0)\n"
     ]
    }
   ],
   "source": [
    "pip install selenium"
   ]
  },
  {
   "cell_type": "code",
   "execution_count": 77,
   "id": "085d86cf",
   "metadata": {},
   "outputs": [],
   "source": [
    "from selenium import webdriver\n",
    "import pandas as pd\n"
   ]
  },
  {
   "cell_type": "code",
   "execution_count": 78,
   "id": "476f62ac",
   "metadata": {},
   "outputs": [
    {
     "name": "stdout",
     "output_type": "stream",
     "text": [
      "Requirement already satisfied: jsonpath-ng in c:\\users\\mohamed\\anaconda3\\lib\\site-packages (1.5.3)\n",
      "Requirement already satisfied: ply in c:\\users\\mohamed\\anaconda3\\lib\\site-packages (from jsonpath-ng) (3.11)\n",
      "Requirement already satisfied: decorator in c:\\users\\mohamed\\anaconda3\\lib\\site-packages (from jsonpath-ng) (5.0.6)\n",
      "Requirement already satisfied: six in c:\\users\\mohamed\\anaconda3\\lib\\site-packages (from jsonpath-ng) (1.15.0)\n",
      "Note: you may need to restart the kernel to use updated packages.\n"
     ]
    }
   ],
   "source": [
    "pip install --upgrade jsonpath-ng"
   ]
  },
  {
   "cell_type": "code",
   "execution_count": 79,
   "id": "65d02477",
   "metadata": {},
   "outputs": [
    {
     "name": "stdout",
     "output_type": "stream",
     "text": [
      "plate num is MHJ3719\n",
      "<class 'jsonpath_ng.jsonpath.DatumInContext'>\n"
     ]
    }
   ],
   "source": [
    "#print('it\\'s okay not to be okay')\n",
    "import json\n",
    "from jsonpath_ng import jsonpath, parse\n",
    "#df = pd.read_json(r'from_post_man_license_plate_recognition.json') #this generates an error cuz json is not in the desired format\n",
    "#df = pd.read_json(r'players_stats.json')\n",
    "json_file = open('from_post_man_license_plate_recognition.json','r')\n",
    "json_data = json.load(json_file)\n",
    "type (json_data)\n",
    "json_exp = parse('$.results[:].plate') \n",
    "matches = json_exp.find(json_data) # one result in the list\n",
    "for match in matches: # only one result\n",
    "    print ('plate num is {}'.format(match.value))\n",
    "    print(type(match))"
   ]
  },
  {
   "cell_type": "code",
   "execution_count": 80,
   "id": "bca0c668",
   "metadata": {},
   "outputs": [
    {
     "data": {
      "text/html": [
       "<div>\n",
       "<style scoped>\n",
       "    .dataframe tbody tr th:only-of-type {\n",
       "        vertical-align: middle;\n",
       "    }\n",
       "\n",
       "    .dataframe tbody tr th {\n",
       "        vertical-align: top;\n",
       "    }\n",
       "\n",
       "    .dataframe thead th {\n",
       "        text-align: right;\n",
       "    }\n",
       "</style>\n",
       "<table border=\"1\" class=\"dataframe\">\n",
       "  <thead>\n",
       "    <tr style=\"text-align: right;\">\n",
       "      <th></th>\n",
       "      <th>body</th>\n",
       "      <th>status</th>\n",
       "      <th>statusCode</th>\n",
       "    </tr>\n",
       "  </thead>\n",
       "  <tbody>\n",
       "    <tr>\n",
       "      <th>count</th>\n",
       "      <td>94216</td>\n",
       "      <td>Success</td>\n",
       "      <td>404</td>\n",
       "    </tr>\n",
       "    <tr>\n",
       "      <th>edges</th>\n",
       "      <td>[{'node': {'is_private': True, 'requested_by_v...</td>\n",
       "      <td>Success</td>\n",
       "      <td>404</td>\n",
       "    </tr>\n",
       "    <tr>\n",
       "      <th>page_info</th>\n",
       "      <td>{'has_next_page': True, 'end_cursor': 'QVFDN0k...</td>\n",
       "      <td>Success</td>\n",
       "      <td>404</td>\n",
       "    </tr>\n",
       "  </tbody>\n",
       "</table>\n",
       "</div>"
      ],
      "text/plain": [
       "                                                        body   status  \\\n",
       "count                                                  94216  Success   \n",
       "edges      [{'node': {'is_private': True, 'requested_by_v...  Success   \n",
       "page_info  {'has_next_page': True, 'end_cursor': 'QVFDN0k...  Success   \n",
       "\n",
       "           statusCode  \n",
       "count             404  \n",
       "edges             404  \n",
       "page_info         404  "
      ]
     },
     "execution_count": 80,
     "metadata": {},
     "output_type": "execute_result"
    }
   ],
   "source": [
    "#...........................the second API.............................................................\n",
    "#.............................get followers of instagram account (nickfry)...........................\n",
    "df = pd.read_json('from_post_man_instagram_followers.json')\n",
    "df.head()"
   ]
  },
  {
   "cell_type": "code",
   "execution_count": 81,
   "id": "b74d0a3c",
   "metadata": {
    "scrolled": true
   },
   "outputs": [
    {
     "name": "stdout",
     "output_type": "stream",
     "text": [
      "['mo_antar_', 'ali_20020911', 'raven.hona', 'xxblister.da.gamerxx', 'charles.does_stuff', 'halfdan_nl', 'karan__rajput6790', 'lessageprince', 'gt_yapalm_x', 'ali._.nbi']\n",
      "['Mohamed Antar', '', 'A£R ⛩', '', 'Charles', 'Halfdan Nyvang Legarth', '꧁𓊈𒆜🅺🅰🆁🅰🅽.🆁🅰🅹🅿🆄🆃𒆜𓊉꧂', 'prince lessage', '', 'ALI']\n",
      "['https://scontent-lis1-1.cdninstagram.com/v/t51.2885-19/s150x150/95806746_309755407089960_8927019014257901568_n.jpg?_nc_ht=scontent-lis1-1.cdninstagram.com&_nc_cat=100&_nc_ohc=lAxtVptWxskAX_bSAIY&edm=AOG-cTkBAAAA&ccb=7-4&oh=00_AT-MMTjSONYDxM450BlC_vPLqp9xWDBr1qdm-Mbck-3sxg&oe=61DFBF1B&_nc_sid=282b66', 'https://scontent-lis1-1.cdninstagram.com/v/t51.2885-19/s150x150/244680383_396622312174249_1760977588514918828_n.jpg?_nc_ht=scontent-lis1-1.cdninstagram.com&_nc_cat=101&_nc_ohc=S3vp6L1sEhsAX-iuGz9&tn=QFmSgxadsW7VAVVv&edm=AOG-cTkBAAAA&ccb=7-4&oh=00_AT8orbXV6dfhfX54mi6AsO6HKDSSH7TpywI5N6PIcbIa3Q&oe=61E080A8&_nc_sid=282b66', 'https://scontent-lis1-1.cdninstagram.com/v/t51.2885-19/s150x150/269796835_1023155005200614_1060838549771741239_n.jpg?_nc_ht=scontent-lis1-1.cdninstagram.com&_nc_cat=102&_nc_ohc=sWCY1JT7gA0AX8E0MAx&edm=AOG-cTkBAAAA&ccb=7-4&oh=00_AT9_SdMxsrPV430ccjvjUJBUP5eR7XXDKMg7KgOYoqOPmw&oe=61E123D4&_nc_sid=282b66', 'https://scontent-lis1-1.cdninstagram.com/v/t51.2885-19/s150x150/270275457_279934177530140_1817587378956000094_n.jpg?_nc_ht=scontent-lis1-1.cdninstagram.com&_nc_cat=108&_nc_ohc=3TpifqGIie8AX-VGY5S&tn=QFmSgxadsW7VAVVv&edm=AOG-cTkBAAAA&ccb=7-4&oh=00_AT8BtrNHYgiTZd5aiT7Qqs1K7dL-OsBvVNij8v8xFKsW3g&oe=61E016F6&_nc_sid=282b66', 'https://scontent-lis1-1.cdninstagram.com/v/t51.2885-19/s150x150/260227687_943611303220464_1217318234014040441_n.jpg?_nc_ht=scontent-lis1-1.cdninstagram.com&_nc_cat=100&_nc_ohc=cK4IAdc4QLUAX9ae6Ez&tn=QFmSgxadsW7VAVVv&edm=AOG-cTkBAAAA&ccb=7-4&oh=00_AT95kG7tQkUBMT8w6RkKbgBnxmp84FBGn7jfwDo0sTy_dQ&oe=61DFC036&_nc_sid=282b66', 'https://scontent-lis1-1.cdninstagram.com/v/t51.2885-19/s150x150/245025079_409861447194989_2264747491347880918_n.jpg?_nc_ht=scontent-lis1-1.cdninstagram.com&_nc_cat=105&_nc_ohc=ZQ2LNROEesoAX_rSi5K&edm=AOG-cTkBAAAA&ccb=7-4&oh=00_AT9hskOCbQpts8Y5vxTzjsiCEZvNJhOpBuSFFz0vOlHFqQ&oe=61E01BC2&_nc_sid=282b66', 'https://scontent-lis1-1.cdninstagram.com/v/t51.2885-19/s150x150/271428372_456313089500795_7967421211098831240_n.jpg?_nc_ht=scontent-lis1-1.cdninstagram.com&_nc_cat=111&_nc_ohc=QHqc_EoPd_IAX_VobDS&edm=AOG-cTkBAAAA&ccb=7-4&oh=00_AT-NZ6PDd5q4Om3w-_9pvSeEkkcuZsDOaB4kuS9rZOkFFw&oe=61E10010&_nc_sid=282b66', 'https://scontent-lis1-1.cdninstagram.com/v/t51.2885-19/s150x150/271396873_304917881566717_5847503709234921111_n.jpg?_nc_ht=scontent-lis1-1.cdninstagram.com&_nc_cat=101&_nc_ohc=QvMF_9-9POQAX-H9o9S&edm=AOG-cTkBAAAA&ccb=7-4&oh=00_AT8Qo5GFRAvws3jyJieieNNkE0RNp98zwVNnA9sDU-SFmg&oe=61E06BFD&_nc_sid=282b66', 'https://scontent-iev1-1.cdninstagram.com/v/t51.2885-19/44884218_345707102882519_2446069589734326272_n.jpg?_nc_ht=scontent-iev1-1.cdninstagram.com&_nc_cat=1&_nc_ohc=jVVw8CiTIsoAX8GLO0U&edm=AEsR1pMBAAAA&ccb=7-4&ig_cache_key=YW5vbnltb3VzX3Byb2ZpbGVfcGlj.2-ccb7-4&oh=00_AT9NOoGO8llxHEcnR5aVkd5z_JbS8GzXxt0FJk8tABnibQ&oe=61DF8B0F&_nc_sid=3f45ac', 'https://scontent-lis1-1.cdninstagram.com/v/t51.2885-19/s150x150/271375923_1425416857861257_5278786646112537592_n.jpg?_nc_ht=scontent-lis1-1.cdninstagram.com&_nc_cat=109&_nc_ohc=JB-Y6724Z9sAX_R7EA5&tn=QFmSgxadsW7VAVVv&edm=AOG-cTkBAAAA&ccb=7-4&oh=00_AT8MKVPl2ytgTQmDi-tLwvM0rMEgMG9W0u52ux_KCu_V0Q&oe=61DFEE5C&_nc_sid=282b66']\n",
      "[False, False, False, False, False, False, False, False, False, False]\n",
      "[True, False, False, False, False, True, False, False, True, True]\n"
     ]
    }
   ],
   "source": [
    "#.........................................reading using json lib.......................................\n",
    "json_file_3 = open('from_post_man_instagram_followers.json',encoding=\"utf8\") #you specifiy the encoding type in reading the file\n",
    "json_data_1 = json.load(json_file_3)\n",
    "type (json_data_1) # list\n",
    "\n",
    "#.................................extracting user names......................................................\n",
    "user_name_exp = parse('$.body.edges[:].node.username')\n",
    "matches = user_name_exp.find(json_data_1)\n",
    "user_names = []\n",
    "for match in matches:\n",
    "    user_names.append(match.value)\n",
    "    #print ('name is {}'.format(match.value))\n",
    "#print(type(match)) #<class 'jsonpath_ng.jsonpath.DatumInContext'>\n",
    "print (user_names)\n",
    "\n",
    "#.................................extracting full names......................................................\n",
    "full_name_exp = parse('$.body.edges[:].node.full_name')\n",
    "matches = full_name_exp.find(json_data_1)\n",
    "full_names = []\n",
    "for match in matches:\n",
    "    full_names.append(match.value)\n",
    "    #print ('name is {}'.format(match.value))\n",
    "#print(type(match)) #<class 'jsonpath_ng.jsonpath.DatumInContext'>\n",
    "print (full_names)\n",
    "\n",
    "#.................................extracting profile pic url......................................................\n",
    "prof_pic_exp = parse('$.body.edges[:].node.profile_pic_url')\n",
    "matches = prof_pic_exp.find(json_data_1)\n",
    "prof_pics = []\n",
    "for match in matches:\n",
    "    prof_pics.append(match.value)\n",
    "    #print ('name is {}'.format(match.value))\n",
    "#print(type(match)) #<class 'jsonpath_ng.jsonpath.DatumInContext'>\n",
    "print (prof_pics)\n",
    "\n",
    "#.................................extracting is verified account  ......................................................\n",
    "is_verified_exp = parse('$.body.edges[:].node.is_verified')\n",
    "matches = is_verified_exp.find(json_data_1)\n",
    "is_verified = []\n",
    "for match in matches:\n",
    "    is_verified.append(match.value)\n",
    "    #print ('name is {}'.format(match.value))\n",
    "#print(type(match)) #<class 'jsonpath_ng.jsonpath.DatumInContext'>\n",
    "print (is_verified)\n",
    "\n",
    "#.................................extracting is private account  ......................................................\n",
    "is_private_exp = parse('$.body.edges[:].node.is_private')\n",
    "matches = is_private_exp.find(json_data_1)\n",
    "is_private = []\n",
    "for match in matches:\n",
    "    is_private.append(match.value)\n",
    "    #print ('name is {}'.format(match.value))\n",
    "#print(type(match)) #<class 'jsonpath_ng.jsonpath.DatumInContext'>\n",
    "print (is_private)\n"
   ]
  },
  {
   "cell_type": "code",
   "execution_count": 82,
   "id": "e49a368f",
   "metadata": {},
   "outputs": [
    {
     "data": {
      "text/html": [
       "<div>\n",
       "<style scoped>\n",
       "    .dataframe tbody tr th:only-of-type {\n",
       "        vertical-align: middle;\n",
       "    }\n",
       "\n",
       "    .dataframe tbody tr th {\n",
       "        vertical-align: top;\n",
       "    }\n",
       "\n",
       "    .dataframe thead th {\n",
       "        text-align: right;\n",
       "    }\n",
       "</style>\n",
       "<table border=\"1\" class=\"dataframe\">\n",
       "  <thead>\n",
       "    <tr style=\"text-align: right;\">\n",
       "      <th></th>\n",
       "      <th>user name</th>\n",
       "      <th>full name</th>\n",
       "      <th>profile pic. url</th>\n",
       "      <th>is verified</th>\n",
       "      <th>is private</th>\n",
       "    </tr>\n",
       "  </thead>\n",
       "  <tbody>\n",
       "    <tr>\n",
       "      <th>0</th>\n",
       "      <td>mo_antar_</td>\n",
       "      <td>Mohamed Antar</td>\n",
       "      <td>https://scontent-lis1-1.cdninstagram.com/v/t51...</td>\n",
       "      <td>False</td>\n",
       "      <td>True</td>\n",
       "    </tr>\n",
       "    <tr>\n",
       "      <th>1</th>\n",
       "      <td>ali_20020911</td>\n",
       "      <td></td>\n",
       "      <td>https://scontent-lis1-1.cdninstagram.com/v/t51...</td>\n",
       "      <td>False</td>\n",
       "      <td>False</td>\n",
       "    </tr>\n",
       "    <tr>\n",
       "      <th>2</th>\n",
       "      <td>raven.hona</td>\n",
       "      <td>A£R ⛩</td>\n",
       "      <td>https://scontent-lis1-1.cdninstagram.com/v/t51...</td>\n",
       "      <td>False</td>\n",
       "      <td>False</td>\n",
       "    </tr>\n",
       "    <tr>\n",
       "      <th>3</th>\n",
       "      <td>xxblister.da.gamerxx</td>\n",
       "      <td></td>\n",
       "      <td>https://scontent-lis1-1.cdninstagram.com/v/t51...</td>\n",
       "      <td>False</td>\n",
       "      <td>False</td>\n",
       "    </tr>\n",
       "    <tr>\n",
       "      <th>4</th>\n",
       "      <td>charles.does_stuff</td>\n",
       "      <td>Charles</td>\n",
       "      <td>https://scontent-lis1-1.cdninstagram.com/v/t51...</td>\n",
       "      <td>False</td>\n",
       "      <td>False</td>\n",
       "    </tr>\n",
       "  </tbody>\n",
       "</table>\n",
       "</div>"
      ],
      "text/plain": [
       "              user name      full name  \\\n",
       "0             mo_antar_  Mohamed Antar   \n",
       "1          ali_20020911                  \n",
       "2            raven.hona          A£R ⛩   \n",
       "3  xxblister.da.gamerxx                  \n",
       "4    charles.does_stuff        Charles   \n",
       "\n",
       "                                    profile pic. url  is verified  is private  \n",
       "0  https://scontent-lis1-1.cdninstagram.com/v/t51...        False        True  \n",
       "1  https://scontent-lis1-1.cdninstagram.com/v/t51...        False       False  \n",
       "2  https://scontent-lis1-1.cdninstagram.com/v/t51...        False       False  \n",
       "3  https://scontent-lis1-1.cdninstagram.com/v/t51...        False       False  \n",
       "4  https://scontent-lis1-1.cdninstagram.com/v/t51...        False       False  "
      ]
     },
     "execution_count": 82,
     "metadata": {},
     "output_type": "execute_result"
    }
   ],
   "source": [
    "#..............................putting all data into pandas dataframe....................................................\n",
    "dic = {'user name':user_names , 'full name': full_names, 'profile pic. url' : prof_pics , 'is verified':is_verified , 'is private': is_private}\n",
    "df =  pd.DataFrame(dic)\n",
    "df.head()"
   ]
  },
  {
   "cell_type": "code",
   "execution_count": 83,
   "id": "5b2ca0db",
   "metadata": {},
   "outputs": [],
   "source": [
    "df.to_csv('followers data.csv',index = False , encoding = 'utf-8')"
   ]
  },
  {
   "cell_type": "code",
   "execution_count": null,
   "id": "b47d4501",
   "metadata": {},
   "outputs": [],
   "source": []
  }
 ],
 "metadata": {
  "kernelspec": {
   "display_name": "Python 3",
   "language": "python",
   "name": "python3"
  },
  "language_info": {
   "codemirror_mode": {
    "name": "ipython",
    "version": 3
   },
   "file_extension": ".py",
   "mimetype": "text/x-python",
   "name": "python",
   "nbconvert_exporter": "python",
   "pygments_lexer": "ipython3",
   "version": "3.8.8"
  }
 },
 "nbformat": 4,
 "nbformat_minor": 5
}
